{
 "cells": [
  {
   "cell_type": "code",
   "execution_count": 8,
   "metadata": {},
   "outputs": [],
   "source": [
    "#the modules we shall need\n",
    "import numpy as np\n",
    "import matplotlib.pyplot as plt\n",
    "import math\n",
    "import transmitter\n",
    "import antenna\n",
    "import reciever\n",
    "import scipy as sy\n",
    "import scipy.fftpack as syfp\n",
    "import pylab as pyl"
   ]
  },
  {
   "cell_type": "code",
   "execution_count": 9,
   "metadata": {},
   "outputs": [],
   "source": [
    "#These are constants relating to the specification of the designed speed gun\n",
    "beamwidth=24 \n",
    "c=2.998e8\n",
    "duty_cycle= 1 #because the system transmits continously.\n",
    "transmit_frequency= 10e9       #must be between 8000000000hz and 12000000000Hz\n",
    "#transmit_duration =  10 \t\t#must be the duration of seconds in which you want to transmit\t\t\t#enter antenna area\t\t\t#specify the antenna gain\n",
    "#maximum_velocity=50\t\t#specify the maximum speed limit in meters per second\n",
    "#Range_min=    153 \t\t\t# must be between 152-1608 meters\n",
    "#Range_max=1607\t\t\t#must be between 152-1608 meters and this are the values used to chooses the area in which targets are caputered.\n"
   ]
  },
  {
   "cell_type": "code",
   "execution_count": 12,
   "metadata": {},
   "outputs": [
    {
     "name": "stdout",
     "output_type": "stream",
     "text": [
      "Please insert the maximum speed limit in meters/seconds50\n",
      "Please insert the minumum range in meters. min range must be greter than 152 m 153\n",
      "Please insert the maximumrange in meters. min range must be less  than 1608 m 100\n"
     ]
    }
   ],
   "source": [
    "prompt=\"Please insert the maximum speed limit in meters/seconds\"\n",
    "maximum_velocity= int(input(prompt))\n",
    "prompt=\"Please insert the minumum range in meters. min range must be greter than 152 m \"\n",
    "Range_min= int(input(prompt))\n",
    "prompt=\"Please insert the maximumrange in meters. min range must be less  than 1608 m \"\n",
    "Range_max=int(input(prompt)) "
   ]
  },
  {
   "cell_type": "code",
   "execution_count": 13,
   "metadata": {},
   "outputs": [
    {
     "name": "stdout",
     "output_type": "stream",
     "text": [
      "The minimum range is set to: \n",
      "153\n",
      "The maximum range is set to: \n",
      "100\n"
     ]
    }
   ],
   "source": [
    "#range must be between 152.4 and 1609.3\n",
    "if(Range_min<152):\n",
    "\tprint(\"The minimum range is less than the limit\")\n",
    "elif(Range_min>152):\n",
    "\tprint(\"The minimum range is set to: \")\n",
    "\tprint(Range_min)\n",
    "if(Range_max>1608):\n",
    "\tprint(\"The range entered exists the maximum limit\")\n",
    "elif(Range_max<1608):\n",
    "\tprint(\"The maximum range is set to: \")\n",
    "\tprint(Range_max)"
   ]
  },
  {
   "cell_type": "code",
   "execution_count": 14,
   "metadata": {},
   "outputs": [
    {
     "name": "stdout",
     "output_type": "stream",
     "text": [
      "The maximum doppler frequency allowed in Hz :\n",
      "3335.5570380253503\n"
     ]
    }
   ],
   "source": [
    "#once we have maximum speed limit we can calculate the maximum doppler frequency\\\n",
    "wavelength=transmitter.wavelength_calc(transmit_frequency)\n",
    "\n",
    "fd=2*maximum_velocity/wavelength  #vehicles that have a doppler frequency above this are over speeding\n",
    "print(\"The maximum doppler frequency allowed in Hz :\")\n",
    "print(fd)\n",
    "\n",
    "period=1/transmit_frequency\n",
    "np=transmit_duration/period  #the total number of pulses"
   ]
  },
  {
   "cell_type": "code",
   "execution_count": 15,
   "metadata": {},
   "outputs": [],
   "source": [
    "def db_conversion(val):\n",
    "\tdb=10*math.log(val)\n",
    "\treturn db"
   ]
  },
  {
   "cell_type": "code",
   "execution_count": 16,
   "metadata": {},
   "outputs": [
    {
     "name": "stdout",
     "output_type": "stream",
     "text": [
      "The PRF for the min Range  in Hz is :\n",
      "979738.5620915033\n",
      "The PRF for the min Range  in Hz is :\n",
      "1499000.0\n",
      "The inter pulse period is(in seconds): \n",
      "1499000.0\n",
      "The antenna gain in Db is: \n",
      "26.410591084277563\n"
     ]
    }
   ],
   "source": [
    "PRF_min=c/(2*Range_min) #the prf matchin the minimum range\n",
    "print(\"The PRF for the min Range  in Hz is :\")\n",
    "print(PRF_min)\n",
    "\n",
    "PRF_max=c/(2*Range_max) #the prf matchin the minimum range\n",
    "print(\"The PRF for the min Range  in Hz is :\")\n",
    "print(PRF_max)\n",
    "\n",
    "IPP=1/transmitter.IPP(PRF_max)\n",
    "pulse_length=duty_cycle*IPP\n",
    "print(\"The inter pulse period is(in seconds): \")\n",
    "print(IPP) \n",
    "linear_gain=antenna.antenna_gain(wavelength)\n",
    "gain=db_conversion(linear_gain)\n",
    "print(\"The antenna gain in Db is: \")\n",
    "print(gain) #crosssections of vehicles vary between 2.7-9 meters squared and we want to see how the cross section varies with the minimum signal power\n",
    "\n"
   ]
  },
  {
   "cell_type": "code",
   "execution_count": 18,
   "metadata": {},
   "outputs": [
    {
     "ename": "AttributeError",
     "evalue": "'float' object has no attribute 'linspace'",
     "output_type": "error",
     "traceback": [
      "\u001b[1;31m---------------------------------------------------------------------------\u001b[0m",
      "\u001b[1;31mAttributeError\u001b[0m                            Traceback (most recent call last)",
      "\u001b[1;32m<ipython-input-18-db842a27e641>\u001b[0m in \u001b[0;36m<module>\u001b[1;34m\u001b[0m\n\u001b[0;32m      1\u001b[0m \u001b[1;31m#crosssections of vehicles vary between 2.7-9 meters squared and we want to see how the cross section varies with the minimum signal power\u001b[0m\u001b[1;33m\u001b[0m\u001b[1;33m\u001b[0m\u001b[1;33m\u001b[0m\u001b[0m\n\u001b[0;32m      2\u001b[0m \u001b[1;33m\u001b[0m\u001b[0m\n\u001b[1;32m----> 3\u001b[1;33m \u001b[0mcross\u001b[0m\u001b[1;33m=\u001b[0m\u001b[0mnp\u001b[0m\u001b[1;33m.\u001b[0m\u001b[0mlinspace\u001b[0m\u001b[1;33m(\u001b[0m\u001b[1;36m1\u001b[0m\u001b[1;33m,\u001b[0m\u001b[1;36m10\u001b[0m\u001b[1;33m)\u001b[0m\u001b[1;33m;\u001b[0m\u001b[1;33m\u001b[0m\u001b[1;33m\u001b[0m\u001b[0m\n\u001b[0m\u001b[0;32m      4\u001b[0m \u001b[0mmin_power\u001b[0m\u001b[1;33m=\u001b[0m \u001b[0mantenna\u001b[0m\u001b[1;33m.\u001b[0m\u001b[0mmin_signal_power\u001b[0m\u001b[1;33m(\u001b[0m\u001b[0mtransmitter\u001b[0m\u001b[1;33m.\u001b[0m\u001b[0mpower\u001b[0m\u001b[1;33m,\u001b[0m\u001b[0mlinear_gain\u001b[0m\u001b[1;33m,\u001b[0m\u001b[0mwavelength\u001b[0m\u001b[1;33m,\u001b[0m\u001b[0mcross\u001b[0m\u001b[1;33m,\u001b[0m\u001b[0mRange_max\u001b[0m\u001b[1;33m)\u001b[0m\u001b[1;33m\u001b[0m\u001b[1;33m\u001b[0m\u001b[0m\n\u001b[0;32m      5\u001b[0m \u001b[0mplt\u001b[0m\u001b[1;33m.\u001b[0m\u001b[0mplot\u001b[0m\u001b[1;33m(\u001b[0m\u001b[0mcrosssection\u001b[0m\u001b[1;33m,\u001b[0m\u001b[0mmin_power\u001b[0m\u001b[1;33m)\u001b[0m\u001b[1;33m\u001b[0m\u001b[1;33m\u001b[0m\u001b[0m\n",
      "\u001b[1;31mAttributeError\u001b[0m: 'float' object has no attribute 'linspace'"
     ]
    }
   ],
   "source": [
    "#crosssections of vehicles vary between 2.7-9 meters squared and we want to see how the cross section varies with the minimum signal power\n",
    "\n",
    "cross=np.linspace(1,10);\n",
    "min_power= antenna.min_signal_power(transmitter.power,linear_gain,wavelength,cross,Range_max)\n",
    "plt.plot(crosssection,min_power)\n",
    "plt.title('minimum signal power for varying vehicle cross section')\n",
    "plt.ylabel('minimum signal power')\n",
    "plt.xlabel('vehicle cross sections')\n",
    "plt.show()"
   ]
  },
  {
   "cell_type": "code",
   "execution_count": 24,
   "metadata": {},
   "outputs": [
    {
     "name": "stdout",
     "output_type": "stream",
     "text": [
      "[0, 1, 2, 3, 4, 5, 6, 7, 8, 9]\n",
      "[9, 8, 7, 6, 5, 4, 3, 2, 1, 0]\n"
     ]
    },
    {
     "data": {
      "image/png": "[encoded data removed]",
      "text/plain": [
       "<Figure size 432x288 with 1 Axes>"
      ]
     },
     "metadata": {
      "needs_background": "light"
     },
     "output_type": "display_data"
    }
   ],
   "source": [
    "#crosssections of vehicles vary between 2.7-9 meters squared and we want to see how the cross section varies with the minimum signal power\n",
    "\n",
    "#cross=np.linspace(1, 100, 1000)\n",
    "cross=[]\n",
    "powers=[]\n",
    "for i in range(0,10):\n",
    "\tcross.insert(i,i)\n",
    "\tp=antenna.min_signal_power(transmitter.power,linear_gain,wavelength,i,Range_max)    \n",
    "\tpowers.insert(math.floor(p),i)\n",
    "\n",
    "#min_power= antenna.min_signal_power(transmitter.power,linear_gain,wavelength,across,Range_max)\n",
    "print(cross)\n",
    "print(powers)\n",
    "plt.plot(cross,powers)\n",
    "plt.title('minimum signal power for varying vehicle cross section')\n",
    "plt.ylabel('minimum signal power')\n",
    "plt.xlabel('vehicle cross sections')\n",
    "plt.show()"
   ]
  },
  {
   "cell_type": "markdown",
   "metadata": {},
   "source": []
  }
 ],
 "metadata": {
  "kernelspec": {
   "display_name": "Python 3",
   "language": "python",
   "name": "python3"
  },
  "language_info": {
   "codemirror_mode": {
    "name": "ipython",
    "version": 3
   },
   "file_extension": ".py",
   "mimetype": "text/x-python",
   "name": "python",
   "nbconvert_exporter": "python",
   "pygments_lexer": "ipython3",
   "version": "3.7.1"
  }
 },
 "nbformat": 4,
 "nbformat_minor": 2
}
